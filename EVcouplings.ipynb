{
 "cells": [
  {
   "cell_type": "code",
   "execution_count": 3,
   "metadata": {},
   "outputs": [
    {
     "name": "stdout",
     "output_type": "stream",
     "text": [
      "Requirement already satisfied: evcouplings in c:\\users\\chels\\anaconda3\\lib\\site-packages (0.0.5)\n",
      "Requirement already satisfied: biopython in c:\\users\\chels\\anaconda3\\lib\\site-packages (from evcouplings) (1.77)\n",
      "Requirement already satisfied: mmtf-python in c:\\users\\chels\\anaconda3\\lib\\site-packages (from evcouplings) (1.1.2)\n",
      "Requirement already satisfied: jinja2 in c:\\users\\chels\\anaconda3\\lib\\site-packages (from evcouplings) (2.11.1)\n",
      "Requirement already satisfied: seaborn in c:\\users\\chels\\anaconda3\\lib\\site-packages (from evcouplings) (0.10.0)\n",
      "Requirement already satisfied: ruamel.yaml in c:\\users\\chels\\anaconda3\\lib\\site-packages (from evcouplings) (0.16.10)\n",
      "Requirement already satisfied: numpy in c:\\users\\chels\\anaconda3\\lib\\site-packages (from evcouplings) (1.18.1)\n",
      "Requirement already satisfied: scipy in c:\\users\\chels\\anaconda3\\lib\\site-packages (from evcouplings) (1.4.1)\n",
      "Requirement already satisfied: filelock in c:\\users\\chels\\anaconda3\\lib\\site-packages (from evcouplings) (3.0.12)\n",
      "Requirement already satisfied: matplotlib in c:\\users\\chels\\anaconda3\\lib\\site-packages (from evcouplings) (3.1.3)\n",
      "Requirement already satisfied: requests in c:\\users\\chels\\anaconda3\\lib\\site-packages (from evcouplings) (2.22.0)\n",
      "Requirement already satisfied: bokeh in c:\\users\\chels\\anaconda3\\lib\\site-packages (from evcouplings) (1.4.0)\n",
      "Requirement already satisfied: numba in c:\\users\\chels\\anaconda3\\lib\\site-packages (from evcouplings) (0.48.0)\n",
      "Requirement already satisfied: setuptools>=18.2 in c:\\users\\chels\\anaconda3\\lib\\site-packages (from evcouplings) (45.2.0.post20200210)\n",
      "Requirement already satisfied: click in c:\\users\\chels\\anaconda3\\lib\\site-packages (from evcouplings) (7.0)\n",
      "Requirement already satisfied: psutil in c:\\users\\chels\\anaconda3\\lib\\site-packages (from evcouplings) (5.6.7)\n",
      "Requirement already satisfied: sqlalchemy in c:\\users\\chels\\anaconda3\\lib\\site-packages (from evcouplings) (1.3.13)\n",
      "Requirement already satisfied: pandas in c:\\users\\chels\\anaconda3\\lib\\site-packages (from evcouplings) (1.0.1)\n",
      "Requirement already satisfied: msgpack>=0.5.6 in c:\\users\\chels\\anaconda3\\lib\\site-packages (from mmtf-python->evcouplings) (0.6.1)\n",
      "Requirement already satisfied: MarkupSafe>=0.23 in c:\\users\\chels\\anaconda3\\lib\\site-packages (from jinja2->evcouplings) (1.1.1)\n",
      "Requirement already satisfied: ruamel.yaml.clib>=0.1.2; platform_python_implementation == \"CPython\" and python_version < \"3.9\" in c:\\users\\chels\\anaconda3\\lib\\site-packages (from ruamel.yaml->evcouplings) (0.2.0)\n",
      "Requirement already satisfied: python-dateutil>=2.1 in c:\\users\\chels\\anaconda3\\lib\\site-packages (from matplotlib->evcouplings) (2.8.1)\n",
      "Requirement already satisfied: cycler>=0.10 in c:\\users\\chels\\anaconda3\\lib\\site-packages (from matplotlib->evcouplings) (0.10.0)\n",
      "Requirement already satisfied: pyparsing!=2.0.4,!=2.1.2,!=2.1.6,>=2.0.1 in c:\\users\\chels\\anaconda3\\lib\\site-packages (from matplotlib->evcouplings) (2.4.6)\n",
      "Requirement already satisfied: kiwisolver>=1.0.1 in c:\\users\\chels\\anaconda3\\lib\\site-packages (from matplotlib->evcouplings) (1.1.0)\n",
      "Requirement already satisfied: urllib3!=1.25.0,!=1.25.1,<1.26,>=1.21.1 in c:\\users\\chels\\anaconda3\\lib\\site-packages (from requests->evcouplings) (1.25.8)\n",
      "Requirement already satisfied: chardet<3.1.0,>=3.0.2 in c:\\users\\chels\\anaconda3\\lib\\site-packages (from requests->evcouplings) (3.0.4)\n",
      "Requirement already satisfied: certifi>=2017.4.17 in c:\\users\\chels\\anaconda3\\lib\\site-packages (from requests->evcouplings) (2019.11.28)\n",
      "Requirement already satisfied: idna<2.9,>=2.5 in c:\\users\\chels\\anaconda3\\lib\\site-packages (from requests->evcouplings) (2.8)\n",
      "Requirement already satisfied: pillow>=4.0 in c:\\users\\chels\\anaconda3\\lib\\site-packages (from bokeh->evcouplings) (7.0.0)\n",
      "Requirement already satisfied: packaging>=16.8 in c:\\users\\chels\\anaconda3\\lib\\site-packages (from bokeh->evcouplings) (20.1)\n",
      "Requirement already satisfied: tornado>=4.3 in c:\\users\\chels\\anaconda3\\lib\\site-packages (from bokeh->evcouplings) (6.0.3)\n",
      "Requirement already satisfied: PyYAML>=3.10 in c:\\users\\chels\\anaconda3\\lib\\site-packages (from bokeh->evcouplings) (5.3)\n",
      "Requirement already satisfied: six>=1.5.2 in c:\\users\\chels\\anaconda3\\lib\\site-packages (from bokeh->evcouplings) (1.14.0)\n",
      "Requirement already satisfied: llvmlite<0.32.0,>=0.31.0dev0 in c:\\users\\chels\\anaconda3\\lib\\site-packages (from numba->evcouplings) (0.31.0)\n",
      "Requirement already satisfied: pytz>=2017.2 in c:\\users\\chels\\anaconda3\\lib\\site-packages (from pandas->evcouplings) (2019.3)\n",
      "Note: you may need to restart the kernel to use updated packages.\n"
     ]
    }
   ],
   "source": [
    "pip install evcouplings"
   ]
  },
  {
   "cell_type": "code",
   "execution_count": null,
   "metadata": {},
   "outputs": [],
   "source": []
  }
 ],
 "metadata": {
  "kernelspec": {
   "display_name": "Python 3",
   "language": "python",
   "name": "python3"
  },
  "language_info": {
   "codemirror_mode": {
    "name": "ipython",
    "version": 3
   },
   "file_extension": ".py",
   "mimetype": "text/x-python",
   "name": "python",
   "nbconvert_exporter": "python",
   "pygments_lexer": "ipython3",
   "version": "3.7.6"
  }
 },
 "nbformat": 4,
 "nbformat_minor": 4
}
